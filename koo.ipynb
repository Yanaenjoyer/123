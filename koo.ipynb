{
 "cells": [
  {
   "cell_type": "code",
   "execution_count": 1,
   "id": "5498fe42-f29a-4111-8095-3b3071ea7fea",
   "metadata": {},
   "outputs": [
    {
     "ename": "SyntaxError",
     "evalue": "invalid syntax (86605776.py, line 1)",
     "output_type": "error",
     "traceback": [
      "\u001b[1;36m  Cell \u001b[1;32mIn[1], line 1\u001b[1;36m\u001b[0m\n\u001b[1;33m    CREATE TRIGGER trg_UpdatePriceHistory ON Products\u001b[0m\n\u001b[1;37m           ^\u001b[0m\n\u001b[1;31mSyntaxError\u001b[0m\u001b[1;31m:\u001b[0m invalid syntax\n"
     ]
    }
   ],
   "source": [
    "import pandas as pd"
   ]
  },
  {
   "cell_type": "markdown",
   "id": "0ddeb00b-8f76-41b4-89ed-098178e609e6",
   "metadata": {},
   "source": [
    "CREATE TRIGGER trg_UpdatePriceHistory ON Products\n",
    "AFTER UPDATE\n",
    "AS\n",
    "BEGIN\n",
    "    IF UPDATE(Price)\n",
    "    BEGIN\n",
    "        INSERT INTO HistoryCost (ChangeDate, ProductID, OldPrice, NewPrice)\n",
    "        SELECT GETDATE(), inserted.ProductID, deleted.Price, inserted.Price\n",
    "        FROM inserted\n",
    "        INNER JOIN deleted ON inserted.ProductID = deleted.ProductID;\n",
    "    END\n",
    "END;\n",
    "GO\n",
    "\n",
    "CREATE PROCEDURE CheckEmailValidity\n",
    "AS\n",
    "BEGIN\n",
    "    SELECT Email,\n",
    "           CASE \n",
    "               WHEN Email NOT LIKE '%[ \"<>@''%]' AND Email LIKE '%@%.%' THEN 1\n",
    "               ELSE 0\n",
    "           END AS IsValid\n",
    "    FROM Customers;\n",
    "END;\n",
    "GO\n",
    "\n",
    "-- Добавление сотрудников\n",
    "INSERT INTO Employees (FirstName, LastName, MiddleName, BirthDate, Phone, City, Street, House, Apartment)\n",
    "VALUES ('Иван', 'Иванов', 'Иванович', '1980-06-15', '1234567890', 'Москва', 'Ленина', '10', '1'),\n",
    "       ('Петр', 'Петров', 'Петрович', '1985-09-23', '0987654321', 'Москва', 'Садовая', '20', NULL);\n",
    "\n",
    "-- Добавление клиентов\n",
    "INSERT INTO Customers (FirstName, LastName, MiddleName, Phone, Email)\n",
    "VALUES ('Анна', 'Смирнова', 'Алексеевна', '2345678901', 'anna@example.com'),\n",
    "       ('Ольга', 'Кузнецова', NULL, '3456789012', 'olga@example.net');\n",
    "\n",
    "-- Добавление товаров\n",
    "INSERT INTO Products (SKU, Name, Category, Price, MeasurementUnit, ManufactureDate, ExpiryDate, Manufacturer, Country)\n",
    "VALUES ('SKU1234', 'Товар1', 'Категория1', 100.00, 'шт', '2021-01-01', '2023-01-01', 'Производитель1', 'Россия'),\n",
    "       ('SKU5678', 'Товар2', 'Категория2', 200.00, 'шт', '2021-02-01', '2023-02-01', 'Производитель2', 'Россия');\n",
    "\n",
    "-- Добавление заказов\n",
    "INSERT INTO Orders (CustomerID, EmployeeID, OrderDate, PaymentMethod, Status)\n",
    "VALUES (1, (SELECT TOP 1 EmployeeID FROM Employees), '2022-01-01', 'Наличные', 'Новый'),\n",
    "       (2, (SELECT TOP 1 EmployeeID FROM Employees), '2022-01-02', 'Карта', 'В работе');\n",
    "\n",
    "-- Добавление заказанных товаров\n",
    "INSERT INTO OrderedProducts (OrderID, ProductID, Quantity)\n",
    "VALUES (1, 1, 10),\n",
    "       (1, 2, 5),\n",
    "       (2, 1, 3),\n",
    "       (2, 2, 8);"
   ]
  }
 ],
 "metadata": {
  "kernelspec": {
   "display_name": "Python 3 (ipykernel)",
   "language": "python",
   "name": "python3"
  },
  "language_info": {
   "codemirror_mode": {
    "name": "ipython",
    "version": 3
   },
   "file_extension": ".py",
   "mimetype": "text/x-python",
   "name": "python",
   "nbconvert_exporter": "python",
   "pygments_lexer": "ipython3",
   "version": "3.9.7"
  }
 },
 "nbformat": 4,
 "nbformat_minor": 5
}
