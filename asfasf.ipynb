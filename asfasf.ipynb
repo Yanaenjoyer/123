{
 "cells": [
  {
   "cell_type": "markdown",
   "id": "7a04afdf-87ae-4c00-8014-8e0025498a8c",
   "metadata": {},
   "source": [
    "-- Создание таблицы Сотрудников CREATE TABLE Employees ( EmployeeID UNIQUEIDENTIFIER DEFAULT NEWID() PRIMARY KEY, FirstName NVARCHAR(50), LastName NVARCHAR(50), MiddleName NVARCHAR(50) NULL, BirthDate DATE, Phone NVARCHAR(15), City NVARCHAR(50), Street NVARCHAR(50), House NVARCHAR(10), Apartment NVARCHAR(10) NULL ); -- Создание таблицы Клиентов CREATE TABLE Customers ( CustomerID INT PRIMARY KEY IDENTITY(1,1), FirstName NVARCHAR(50), LastName NVARCHAR(50), MiddleName NVARCHAR(50) NULL, Phone NVARCHAR(15), Email NVARCHAR(100) ); -- Создание таблицы Товаров CREATE TABLE Products ( ProductID INT PRIMARY KEY IDENTITY(1,1), SKU NVARCHAR(20), Name NVARCHAR(100), Category NVARCHAR(50), Price DECIMAL(10, 2), ImageURL NVARCHAR(255) NULL, MeasurementUnit NVARCHAR(10), ManufactureDate DATE, ExpiryDate DATE, Manufacturer NVARCHAR(50), Country NVARCHAR(50) ); -- Создание таблицы Заказов CREATE TABLE Orders ( OrderID INT PRIMARY KEY IDENTITY(1,1), CustomerID INT FOREIGN KEY REFERENCES Customers(CustomerID), EmployeeID UNIQUEIDENTIFIER FOREIGN KEY REFERENCES Employees(EmployeeID), OrderDate DATE, PaymentMethod NVARCHAR(50), Status NVARCHAR(20) ); -- Создание таблицы Заказанных товаров CREATE TABLE OrderedProducts ( OrderID INT FOREIGN KEY REFERENCES Orders(OrderID), ProductID INT FOREIGN KEY REFERENCES Products(ProductID), Quantity INT ); -- Создание таблицы Истории изменения цен CREATE TABLE HistoryCost ( ChangeDate DATE, ProductID INT FOREIGN KEY REFERENCES Products(ProductID), OldPrice DECIMAL(10, 2), NewPrice DECIMAL(10, 2) );\n",
    "\n",
    "CREATE TRIGGER trg_UpdatePriceHistory ON Products AFTER UPDATE AS BEGIN IF UPDATE(Price) BEGIN INSERT INTO HistoryCost (ChangeDate, ProductID, OldPrice, NewPrice) SELECT GETDATE(), inserted.ProductID, deleted.Price, inserted.Price FROM inserted INNER JOIN deleted ON inserted.ProductID = deleted.ProductID; END END; GO\n",
    "\n",
    "CREATE PROCEDURE CheckEmailValidity AS BEGIN SELECT Email, CASE WHEN Email NOT LIKE '%[ \"<>@''%]' AND Email LIKE '%@%.%' THEN 1 ELSE 0 END AS IsValid FROM Customers; END; GO\n",
    "\n",
    "-- Добавление сотрудников INSERT INTO Employees (FirstName, LastName, MiddleName, BirthDate, Phone, City, Street, House, Apartment) VALUES ('Иван', 'Иванов', 'Иванович', '1980-06-15', '1234567890', 'Москва', 'Ленина', '10', '1'), ('Петр', 'Петров', 'Петрович', '1985-09-23', '0987654321', 'Москва', 'Садовая', '20', NULL); -- Добавление клиентов INSERT INTO Customers (FirstName, LastName, MiddleName, Phone, Email) VALUES ('Анна', 'Смирнова', 'Алексеевна', '2345678901', 'anna@example.com'), ('Ольга', 'Кузнецова', NULL, '3456789012', 'olga@example.net'); -- Добавление товаров INSERT INTO Products (SKU, Name, Category, Price, MeasurementUnit, ManufactureDate, ExpiryDate, Manufacturer, Country) VALUES ('SKU1234', 'Товар1', 'Категория1', 100.00, 'шт', '2021-01-01', '2023-01-01', 'Производитель1', 'Россия'), ('SKU5678', 'Товар2', 'Категория2', 200.00, 'шт', '2021-02-01', '2023-02-01', 'Производитель2', 'Россия'); -- Добавление заказов INSERT INTO Orders (CustomerID, EmployeeID, OrderDate, PaymentMethod, Status) VALUES (1, (SELECT TOP 1 EmployeeID FROM Employees), '2022-01-01', 'Наличные', 'Новый'), (2, (SELECT TOP 1 EmployeeID FROM Employees), '2022-01-02', 'Карта', 'В работе'); -- Добавление заказанных товаров INSERT INTO OrderedProducts (OrderID, ProductID, Quantity) VALUES (1, 1, 10), (1, 2, 5), (2, 1, 3), (2, 2, 8);\n"
   ]
  },
  {
   "cell_type": "code",
   "execution_count": 1,
   "id": "ea34c399-f721-4370-8f27-1c17f22c0996",
   "metadata": {},
   "outputs": [
    {
     "ename": "ModuleNotFoundError",
     "evalue": "No module named 'pandas'",
     "output_type": "error",
     "traceback": [
      "\u001b[1;31m---------------------------------------------------------------------------\u001b[0m",
      "\u001b[1;31mModuleNotFoundError\u001b[0m                       Traceback (most recent call last)",
      "Cell \u001b[1;32mIn[1], line 1\u001b[0m\n\u001b[1;32m----> 1\u001b[0m \u001b[38;5;28;01mimport\u001b[39;00m \u001b[38;5;21;01mpandas\u001b[39;00m \u001b[38;5;28;01mas\u001b[39;00m \u001b[38;5;21;01mpd\u001b[39;00m\n",
      "\u001b[1;31mModuleNotFoundError\u001b[0m: No module named 'pandas'"
     ]
    }
   ],
   "source": [
    "import pandas as pd"
   ]
  },
  {
   "cell_type": "code",
   "execution_count": null,
   "id": "b45a4848-ca7e-4b7e-bd01-42f4a1e9f29c",
   "metadata": {},
   "outputs": [],
   "source": []
  }
 ],
 "metadata": {
  "kernelspec": {
   "display_name": "Python 3 (ipykernel)",
   "language": "python",
   "name": "python3"
  },
  "language_info": {
   "codemirror_mode": {
    "name": "ipython",
    "version": 3
   },
   "file_extension": ".py",
   "mimetype": "text/x-python",
   "name": "python",
   "nbconvert_exporter": "python",
   "pygments_lexer": "ipython3",
   "version": "3.9.7"
  }
 },
 "nbformat": 4,
 "nbformat_minor": 5
}
